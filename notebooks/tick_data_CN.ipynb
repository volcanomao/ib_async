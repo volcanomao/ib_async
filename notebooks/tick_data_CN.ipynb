{
 "cells": [
  {
   "cell_type": "markdown",
   "metadata": {},
   "source": [
    "# 刻度数据\n",
    "\n",
    "为了获得最佳结果，建议在外汇交易时间段运行这本笔记本。"
   ]
  },
  {
   "cell_type": "code",
   "execution_count": 1,
   "metadata": {},
   "outputs": [
    {
     "data": {
      "text/plain": [
       "<IB connected to 127.0.0.1:7497 clientId=15>"
      ]
     },
     "execution_count": 1,
     "metadata": {},
     "output_type": "execute_result"
    }
   ],
   "source": [
    "from ib_async import *\n",
    "util.startLoop()\n",
    "\n",
    "ib = IB()\n",
    "ib.connect('127.0.0.1', 7497, clientId=15)"
   ]
  },
  {
   "cell_type": "markdown",
   "metadata": {},
   "source": [
    "### 实时 tick 数据\n",
    "\n",
    "创建一些外汇合同："
   ]
  },
  {
   "cell_type": "code",
   "execution_count": 2,
   "metadata": {},
   "outputs": [],
   "source": [
    "contracts = [Forex(pair) for pair in ('EURUSD', 'USDJPY', 'GBPUSD', 'USDCHF', 'USDCAD', 'AUDUSD')]\n",
    "ib.qualifyContracts(*contracts)\n",
    "\n",
    "eurusd = contracts[0]"
   ]
  },
  {
   "cell_type": "markdown",
   "metadata": {},
   "source": [
    "请求为他们提供流动的报价。"
   ]
  },
  {
   "cell_type": "code",
   "execution_count": 3,
   "metadata": {},
   "outputs": [],
   "source": [
    "for contract in contracts:\n",
    "    ib.reqMktData(contract, '', False, False)"
   ]
  },
  {
   "cell_type": "markdown",
   "metadata": {},
   "source": [
    "等几秒钟，让交易单填充完整。"
   ]
  },
  {
   "cell_type": "code",
   "execution_count": 4,
   "metadata": {},
   "outputs": [
    {
     "data": {
      "text/plain": [
       "Ticker(contract=Forex('EURUSD', conId=12087792, exchange='IDEALPRO', localSymbol='EUR.USD', tradingClass='EUR.USD'), time=datetime.datetime(2019, 12, 31, 17, 5, 2, 127038, tzinfo=datetime.timezone.utc), bid=1.12245, bidSize=10700000, ask=1.1225, askSize=2000000, high=1.1239, low=1.11985, close=1.12, halted=0.0)"
      ]
     },
     "execution_count": 4,
     "metadata": {},
     "output_type": "execute_result"
    }
   ],
   "source": [
    "ticker = ib.ticker(eurusd)\n",
    "ib.sleep(2)\n",
    "\n",
    "ticker"
   ]
  },
  {
   "cell_type": "markdown",
   "metadata": {},
   "source": [
    "外汇ticks的价格始终是nan。要获得中间价格，请使用``midpoint()``或``marketPrice()``。\n",
    "\n",
    "标记是保持实时更新的，请尝试几次看看价格是否会更改："
   ]
  },
  {
   "cell_type": "code",
   "execution_count": 5,
   "metadata": {},
   "outputs": [
    {
     "data": {
      "text/plain": [
       "1.1224750000000001"
      ]
     },
     "execution_count": 5,
     "metadata": {},
     "output_type": "execute_result"
    }
   ],
   "source": [
    "ticker.marketPrice()"
   ]
  },
  {
   "cell_type": "markdown",
   "metadata": {},
   "source": [
    "下一个单元格将启动一个30秒的循环，打印一个实时更新的股票表。在每次股票变动时更新。"
   ]
  },
  {
   "cell_type": "code",
   "execution_count": 6,
   "metadata": {},
   "outputs": [
    {
     "data": {
      "text/html": [
       "<div>\n",
       "<style scoped>\n",
       "    .dataframe tbody tr th:only-of-type {\n",
       "        vertical-align: middle;\n",
       "    }\n",
       "\n",
       "    .dataframe tbody tr th {\n",
       "        vertical-align: top;\n",
       "    }\n",
       "\n",
       "    .dataframe thead th {\n",
       "        text-align: right;\n",
       "    }\n",
       "</style>\n",
       "<table border=\"1\" class=\"dataframe\">\n",
       "  <thead>\n",
       "    <tr style=\"text-align: right;\">\n",
       "      <th></th>\n",
       "      <th>bidSize</th>\n",
       "      <th>bid</th>\n",
       "      <th>ask</th>\n",
       "      <th>askSize</th>\n",
       "      <th>high</th>\n",
       "      <th>low</th>\n",
       "      <th>close</th>\n",
       "    </tr>\n",
       "  </thead>\n",
       "  <tbody>\n",
       "    <tr>\n",
       "      <th>EURUSD</th>\n",
       "      <td>11500000</td>\n",
       "      <td>1.1225</td>\n",
       "      <td>1.12255</td>\n",
       "      <td>1000000</td>\n",
       "      <td>1.1239</td>\n",
       "      <td>1.11985</td>\n",
       "      <td>1.12</td>\n",
       "    </tr>\n",
       "    <tr>\n",
       "      <th>USDJPY</th>\n",
       "      <td>8000000</td>\n",
       "      <td>108.665</td>\n",
       "      <td>108.675</td>\n",
       "      <td>16000000</td>\n",
       "      <td>108.885</td>\n",
       "      <td>108.475</td>\n",
       "      <td>108.87</td>\n",
       "    </tr>\n",
       "    <tr>\n",
       "      <th>GBPUSD</th>\n",
       "      <td>6000000</td>\n",
       "      <td>1.327</td>\n",
       "      <td>1.3271</td>\n",
       "      <td>500000</td>\n",
       "      <td>1.32845</td>\n",
       "      <td>1.3106</td>\n",
       "      <td>1.3111</td>\n",
       "    </tr>\n",
       "    <tr>\n",
       "      <th>USDCHF</th>\n",
       "      <td>10000000</td>\n",
       "      <td>0.9677</td>\n",
       "      <td>0.9678</td>\n",
       "      <td>7000000</td>\n",
       "      <td>0.9698</td>\n",
       "      <td>0.96465</td>\n",
       "      <td>0.96935</td>\n",
       "    </tr>\n",
       "    <tr>\n",
       "      <th>USDCAD</th>\n",
       "      <td>1000000</td>\n",
       "      <td>1.2966</td>\n",
       "      <td>1.29665</td>\n",
       "      <td>2000000</td>\n",
       "      <td>1.30695</td>\n",
       "      <td>1.29515</td>\n",
       "      <td>1.3068</td>\n",
       "    </tr>\n",
       "    <tr>\n",
       "      <th>AUDUSD</th>\n",
       "      <td>9500000</td>\n",
       "      <td>0.70305</td>\n",
       "      <td>0.7031</td>\n",
       "      <td>1000000</td>\n",
       "      <td>0.70325</td>\n",
       "      <td>0.69945</td>\n",
       "      <td>0.6995</td>\n",
       "    </tr>\n",
       "  </tbody>\n",
       "</table>\n",
       "</div>"
      ],
      "text/plain": [
       "         bidSize      bid      ask   askSize     high      low    close\n",
       "EURUSD  11500000   1.1225  1.12255   1000000   1.1239  1.11985     1.12\n",
       "USDJPY   8000000  108.665  108.675  16000000  108.885  108.475   108.87\n",
       "GBPUSD   6000000    1.327   1.3271    500000  1.32845   1.3106   1.3111\n",
       "USDCHF  10000000   0.9677   0.9678   7000000   0.9698  0.96465  0.96935\n",
       "USDCAD   1000000   1.2966  1.29665   2000000  1.30695  1.29515   1.3068\n",
       "AUDUSD   9500000  0.70305   0.7031   1000000  0.70325  0.69945   0.6995"
      ]
     },
     "metadata": {},
     "output_type": "display_data"
    }
   ],
   "source": [
    "from IPython.display import display, clear_output\n",
    "import pandas as pd\n",
    "\n",
    "df = pd.DataFrame(\n",
    "    index=[c.pair() for c in contracts],\n",
    "    columns=['bidSize', 'bid', 'ask', 'askSize', 'high', 'low', 'close'])\n",
    "\n",
    "def onPendingTickers(tickers):\n",
    "    for t in tickers:\n",
    "        df.loc[t.contract.pair()] = (\n",
    "            t.bidSize, t.bid, t.ask, t.askSize, t.high, t.low, t.close)\n",
    "        clear_output(wait=True)\n",
    "    display(df)        \n",
    "\n",
    "ib.pendingTickersEvent += onPendingTickers\n",
    "ib.sleep(30)\n",
    "ib.pendingTickersEvent -= onPendingTickers"
   ]
  },
  {
   "cell_type": "markdown",
   "metadata": {},
   "source": [
    "新的tick数据可以在待处理股票的“ticks”属性中找到。\n",
    "下一个更新之前，tick数据将被清除。"
   ]
  },
  {
   "cell_type": "markdown",
   "metadata": {},
   "source": [
    "停止实时的勾选订阅："
   ]
  },
  {
   "cell_type": "code",
   "execution_count": 7,
   "metadata": {},
   "outputs": [],
   "source": [
    "for contract in contracts:\n",
    "    ib.cancelMktData(contract)"
   ]
  },
  {
   "cell_type": "markdown",
   "metadata": {},
   "source": [
    "### 逐笔数据 ###\n",
    "\n",
    "前一节中的逐笔数据是由IB进行时间采样，以减少带宽使用。因此，使用“reqMktData”并不是从交易所发送每个逐笔数据。而“reqTickByTickData”的承诺是发送每个逐笔数据，就像在TWS时间和销售窗口中看到的那样。这个功能只能同时处理三个订阅，其中买卖盘和成交量也各使用一个订阅。\n",
    "\n",
    "逐笔更新可以从“ticker.tickByTicks”中获取，并通过“ib.pendingTickersEvent”或“ticker.updateEvent”来接收信号。"
   ]
  },
  {
   "cell_type": "code",
   "execution_count": 8,
   "metadata": {},
   "outputs": [
    {
     "name": "stdout",
     "output_type": "stream",
     "text": [
      "Ticker(contract=Forex('EURUSD', conId=12087792, exchange='IDEALPRO', localSymbol='EUR.USD', tradingClass='EUR.USD'), time=datetime.datetime(2019, 12, 31, 17, 5, 35, 432737, tzinfo=datetime.timezone.utc), bid=1.1225, bidSize=11000000, ask=1.1226, askSize=11500000, prevBid=1.12255, prevBidSize=11500000, prevAsk=1.12255, prevAskSize=1000000, high=1.1239, low=1.11985, close=1.12, halted=0.0, tickByTicks=[TickByTickBidAsk(time=datetime.datetime(2019, 12, 31, 17, 5, 35, 432737, tzinfo=datetime.timezone.utc), bidPrice=1.1225, askPrice=1.12255, bidSize=11500000, askSize=1000000, tickAttribBidAsk=TickAttribBidAsk(bidPastLow=False, askPastHigh=False)), TickByTickBidAsk(time=datetime.datetime(2019, 12, 31, 17, 5, 35, 432737, tzinfo=datetime.timezone.utc), bidPrice=1.1225, askPrice=1.12255, bidSize=11000000, askSize=1000000, tickAttribBidAsk=TickAttribBidAsk(bidPastLow=False, askPastHigh=False)), TickByTickBidAsk(time=datetime.datetime(2019, 12, 31, 17, 5, 35, 432737, tzinfo=datetime.timezone.utc), bidPrice=1.1225, askPrice=1.1226, bidSize=11000000, askSize=11500000, tickAttribBidAsk=TickAttribBidAsk(bidPastLow=False, askPastHigh=False))])\n"
     ]
    }
   ],
   "source": [
    "ticker = ib.reqTickByTickData(eurusd, 'BidAsk')\n",
    "ib.sleep(2)\n",
    "print(ticker)\n",
    "\n",
    "ib.cancelTickByTickData(ticker.contract, 'BidAsk')"
   ]
  },
  {
   "cell_type": "markdown",
   "metadata": {},
   "source": [
    "### 历史tick数据\n",
    "\n",
    "历史tick数据最多可以一次获取1000个ticks。必须提供开始时间或结束时间之一，其中一个必须保持为空："
   ]
  },
  {
   "cell_type": "code",
   "execution_count": 9,
   "metadata": {},
   "outputs": [
    {
     "data": {
      "text/plain": [
       "HistoricalTickBidAsk(time=datetime.datetime(2019, 12, 31, 17, 5, 34, tzinfo=datetime.timezone.utc), tickAttribBidAsk=TickAttribBidAsk(bidPastLow=False, askPastHigh=False), priceBid=1.1225, priceAsk=1.1226, sizeBid=11000000, sizeAsk=11500000)"
      ]
     },
     "execution_count": 9,
     "metadata": {},
     "output_type": "execute_result"
    }
   ],
   "source": [
    "import datetime\n",
    "\n",
    "start = ''\n",
    "end = datetime.datetime.now()\n",
    "ticks = ib.reqHistoricalTicks(eurusd, start, end, 1000, 'BID_ASK', useRth=False)\n",
    "\n",
    "ticks[-1]"
   ]
  },
  {
   "cell_type": "code",
   "execution_count": 10,
   "metadata": {},
   "outputs": [],
   "source": [
    "ib.disconnect()"
   ]
  }
 ],
 "metadata": {
  "kernelspec": {
   "display_name": "Python 3",
   "language": "python",
   "name": "python3"
  },
  "language_info": {
   "codemirror_mode": {
    "name": "ipython",
    "version": 3
   },
   "file_extension": ".py",
   "mimetype": "text/x-python",
   "name": "python",
   "nbconvert_exporter": "python",
   "pygments_lexer": "ipython3",
   "version": "3.7.5"
  }
 },
 "nbformat": 4,
 "nbformat_minor": 4
}
