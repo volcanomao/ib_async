{
 "cells": [
  {
   "cell_type": "markdown",
   "metadata": {},
   "source": [
    "合同细节"
   ]
  },
  {
   "cell_type": "code",
   "execution_count": null,
   "metadata": {},
   "outputs": [],
   "source": [
    "from ib_async import *\n",
    "util.startLoop()\n",
    "\n",
    "import logging\n",
    "# util.logToConsole(logging.DEBUG)\n",
    "\n",
    "ib = IB()\n",
    "ib.connect('127.0.0.1', 7497, clientId=11)"
   ]
  },
  {
   "cell_type": "markdown",
   "metadata": {},
   "source": [
    "假设我们想要查找 AMD 股票的合同详情。\n",
    "让我们创建一个股票对象，并请求其详情："
   ]
  },
  {
   "cell_type": "code",
   "execution_count": null,
   "metadata": {},
   "outputs": [],
   "source": [
    "amd = Stock('AMD')\n",
    "\n",
    "cds = ib.reqContractDetails(amd)\n",
    "\n",
    "len(cds)"
   ]
  },
  {
   "cell_type": "markdown",
   "metadata": {},
   "source": [
    "我们得到了一个很长的合同细节清单。让我们打印第一个："
   ]
  },
  {
   "cell_type": "code",
   "execution_count": null,
   "metadata": {},
   "outputs": [],
   "source": [
    "cds[0]"
   ]
  },
  {
   "cell_type": "markdown",
   "metadata": {},
   "source": [
    "合同本身位于合同细节的“合同”属性。让我们列出合同并查看第一个合同："
   ]
  },
  {
   "cell_type": "code",
   "execution_count": null,
   "metadata": {},
   "outputs": [],
   "source": [
    "contracts = [cd.contract for cd in cds]\n",
    "\n",
    "contracts[0]"
   ]
  },
  {
   "cell_type": "markdown",
   "metadata": {},
   "source": [
    "为了更好地区分所有合同之间的差异，将其转换为DataFrame是很方便的。有一个实用函数可以做到这一点："
   ]
  },
  {
   "cell_type": "code",
   "execution_count": null,
   "metadata": {},
   "outputs": [],
   "source": [
    "util.df(contracts)"
   ]
  },
  {
   "cell_type": "markdown",
   "metadata": {},
   "source": [
    "从这可以看出，AMD在不同交易所以不同货币进行交易。假设我们想要在SMART交易所以美元进行交易。那么AMD合同将进行调整，从而变得独一无二："
   ]
  },
  {
   "cell_type": "code",
   "execution_count": null,
   "metadata": {},
   "outputs": [],
   "source": [
    "amd = Stock('AMD', 'SMART', 'USD')\n",
    "\n",
    "assert len(ib.reqContractDetails(amd)) == 1"
   ]
  },
  {
   "cell_type": "markdown",
   "metadata": {},
   "source": [
    "让我们尝试同样的方法来检验英特尔："
   ]
  },
  {
   "cell_type": "code",
   "execution_count": null,
   "metadata": {},
   "outputs": [],
   "source": [
    "intc = Stock('INTC', 'SMART', 'USD')\n",
    "\n",
    "assert len(ib.reqContractDetails(intc)) == 1"
   ]
  },
  {
   "cell_type": "markdown",
   "metadata": {},
   "source": [
    "让我们试试一个不存在的合同。"
   ]
  },
  {
   "cell_type": "code",
   "execution_count": null,
   "metadata": {},
   "outputs": [],
   "source": [
    "xxx = Stock('XXX', 'SMART', 'USD')\n",
    "\n",
    "assert len(ib.reqContractDetails(xxx)) == 0"
   ]
  },
  {
   "cell_type": "markdown",
   "metadata": {},
   "source": [
    "或者外汇合同"
   ]
  },
  {
   "cell_type": "code",
   "execution_count": null,
   "metadata": {},
   "outputs": [],
   "source": [
    "eurusd = Forex('EURUSD')\n",
    "\n",
    "assert len(ib.reqContractDetails(eurusd)) == 1"
   ]
  },
  {
   "cell_type": "markdown",
   "metadata": {},
   "source": [
    "使用“qualifyContracts”方法，回传的合同详情请求中附加的信息用于填写原始合同。\n",
    "\n",
    "让我们使用“amd”进行此操作，并在此之前和之后进行比较："
   ]
  },
  {
   "cell_type": "code",
   "execution_count": null,
   "metadata": {},
   "outputs": [],
   "source": [
    "amd"
   ]
  },
  {
   "cell_type": "code",
   "execution_count": null,
   "metadata": {},
   "outputs": [],
   "source": [
    "ib.qualifyContracts(amd)\n",
    "amd"
   ]
  },
  {
   "cell_type": "markdown",
   "metadata": {},
   "source": [
    "提示：在打印合同时，输出可以复制粘贴，这将是有效的Python代码。\n",
    "\n",
    "返回的“conId”本身可以用于唯一地指定一个合同："
   ]
  },
  {
   "cell_type": "code",
   "execution_count": null,
   "metadata": {},
   "outputs": [],
   "source": [
    "contract_4391 = Contract(conId=4391)\n",
    "\n",
    "ib.qualifyContracts(contract_4391)\n",
    "\n",
    "assert contract_4391 == amd"
   ]
  },
  {
   "cell_type": "markdown",
   "metadata": {},
   "source": [
    "一大堆合同可以同时被认定资格。返回所有成功的合同的列表："
   ]
  },
  {
   "cell_type": "code",
   "execution_count": null,
   "metadata": {},
   "outputs": [],
   "source": [
    "qualContracts = ib.qualifyContracts(amd, intc, xxx, eurusd)\n",
    "\n",
    "assert intc in qualContracts\n",
    "assert xxx not in qualContracts"
   ]
  },
  {
   "cell_type": "markdown",
   "metadata": {},
   "source": [
    "还有一个API功能可以请求符合模式的股票（仅限股票）。"
   ]
  },
  {
   "cell_type": "code",
   "execution_count": null,
   "metadata": {},
   "outputs": [],
   "source": [
    "matches = ib.reqMatchingSymbols('intc')\n",
    "matchContracts = [m.contract for m in matches]\n",
    "\n",
    "matches"
   ]
  },
  {
   "cell_type": "code",
   "execution_count": null,
   "metadata": {},
   "outputs": [],
   "source": [
    "assert intc in matchContracts"
   ]
  },
  {
   "cell_type": "code",
   "execution_count": null,
   "metadata": {},
   "outputs": [],
   "source": [
    "ib.disconnect()"
   ]
  },
  {
   "cell_type": "code",
   "execution_count": 2,
   "metadata": {},
   "outputs": [
    {
     "name": "stderr",
     "output_type": "stream",
     "text": [
      "Error 321, reqId 2147483647: Error validating request.-'cB' : cause - The API interface is currently in Read-Only mode.\n",
      "Error 321, reqId -1: Error validating request.-'b_' : cause - The API interface is currently in Read-Only mode.\n",
      "open orders request timed out\n",
      "completed orders request timed out\n"
     ]
    },
    {
     "name": "stdout",
     "output_type": "stream",
     "text": [
      "None\n"
     ]
    },
    {
     "name": "stderr",
     "output_type": "stream",
     "text": [
      "Error 430, reqId 4: The fundamentals data for the security specified is not available.Not allowed, contract: Stock(symbol='AAPL', exchange='SMART', currency='USD')\n"
     ]
    },
    {
     "name": "stdout",
     "output_type": "stream",
     "text": [
      "[]\n"
     ]
    }
   ],
   "source": [
    "from ib_async import *\n",
    "util.startLoop()\n",
    "\n",
    "import logging\n",
    "# util.logToConsole(logging.DEBUG)\n",
    "\n",
    "# 连接到 TWS 或者 IB Gateway\n",
    "ib = IB()\n",
    "ib.connect('127.0.0.1', 7497, clientId=1)\n",
    "\n",
    "account_summary = ib.reqAccountSummary()\n",
    "print(account_summary)\n",
    "\n",
    "# 定义你想要查询的股票\n",
    "stock = Stock('AAPL', 'SMART', 'USD')\n",
    "\n",
    "\n",
    "# 请求基本面数据（例如财报数据）\n",
    "report_type = 'CalendarReport'  # 使用 IB API 的 'CalendarReport' 类型获取财报日期\n",
    "fundamental_data = ib.reqFundamentalData(stock, report_type)\n",
    "\n",
    "# 输出财报数据\n",
    "print(fundamental_data)\n",
    "\n",
    "\n",
    "# 断开连接\n",
    "ib.disconnect()"
   ]
  },
  {
   "cell_type": "code",
   "execution_count": null,
   "metadata": {},
   "outputs": [],
   "source": [
    "import ib_async\n",
    "from ib_fundamental import CompanyFinancials\n",
    "\n",
    "# ib_async.util.startLoop() # if you are in a notebook\n",
    "\n",
    "# connect to TWS API for ex on localhost:7497\n",
    "ib = ib_async.IB().connect('localhost',7497)\n",
    "\n",
    "# create your company financials instance\n",
    "aapl = CompanyFinancials(ib=ib,symbol=\"AAPL\")\n",
    "\n",
    "# or specify exchange and currency\n",
    "# aapl = CompanyFinancials(ib=ib,symbol=\"AAPL\",exchange='SMART',currency='USD)\n",
    "\n",
    "# get company info\n",
    "aapl.company_information\n",
    "\n",
    "# Annual income statement, while aapl.income_quarter will pull the quarterly report\n",
    "aapl.income_annual\n",
    "\n",
    "# get earnings per share, appl.eps_ttm will pull trailing twelve months eps\n",
    "aapl.eps_ttm\n",
    "\n",
    "# get data in json format\n",
    "\n",
    "from ib_fundamental.utils import to_json\n",
    "\n",
    "# CompanyFinancials.data property contains all data in dataclass format\n",
    "to_json(aapl.data.eps_ttm)\n",
    "'[{\"as_of_date\": \"2024-03-31T00:00:00\", \"report_type\": \"TTM\", \"period\": \"12M\", \"eps\": 6.46}, {\"as_of_date\": \"2023-12-31T00:00:00\", \"report_type\": \"TTM\", \"period\": \"12M\", \"eps\": 6.46}, ...'\n",
    "\n",
    "# and much more"
   ]
  },
  {
   "cell_type": "code",
   "execution_count": null,
   "metadata": {},
   "outputs": [],
   "source": []
  }
 ],
 "metadata": {
  "kernelspec": {
   "display_name": "Python 3",
   "language": "python",
   "name": "python3"
  },
  "language_info": {
   "codemirror_mode": {
    "name": "ipython",
    "version": 3
   },
   "file_extension": ".py",
   "mimetype": "text/x-python",
   "name": "python",
   "nbconvert_exporter": "python",
   "pygments_lexer": "ipython3",
   "version": "3.12.4"
  }
 },
 "nbformat": 4,
 "nbformat_minor": 4
}
